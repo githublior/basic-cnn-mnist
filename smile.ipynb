{
  "nbformat": 4,
  "nbformat_minor": 0,
  "metadata": {
    "colab": {
      "name": "smile.ipynb",
      "provenance": [],
      "private_outputs": true,
      "toc_visible": true,
      "include_colab_link": true
    },
    "kernelspec": {
      "name": "python3",
      "display_name": "Python 3"
    },
    "accelerator": "GPU"
  },
  "cells": [
    {
      "cell_type": "markdown",
      "metadata": {
        "id": "view-in-github",
        "colab_type": "text"
      },
      "source": [
        "<a href=\"https://colab.research.google.com/github/githublior/basic-cnn-mnist/blob/main/smile.ipynb\" target=\"_parent\"><img src=\"https://colab.research.google.com/assets/colab-badge.svg\" alt=\"Open In Colab\"/></a>"
      ]
    },
    {
      "cell_type": "code",
      "metadata": {
        "id": "aOhUAgJPIOTa",
        "cellView": "form"
      },
      "source": [
        "#@title Create videos from uploaded images\n",
        "%tensorflow_version 1.x\n",
        "\n",
        "from google.colab import files\n",
        "import os\n",
        "import shutil\n",
        "\n",
        "%cd /content\n",
        "shutil.rmtree('upload', ignore_errors=True)\n",
        "os.makedirs('upload', exist_ok=True)\n",
        "%cd upload\n",
        "try:\n",
        "  files.upload()\n",
        "except:\n",
        "  print('file upload timed out. please try again...') #due to https://github.com/googlecolab/colabtools/issues/467\n",
        "\n",
        "%cd /content\n",
        "!git clone https://github.com/eyaler/stylegan\n",
        "%cd stylegan\n",
        "!mkdir -p cache\n",
        "%cd cache\n",
        "!gdown https://drive.google.com/uc?id=19B138TWKeOs-JIol0_K-CCCDMYXbK5bk\n",
        "%cd ..\n",
        "\n",
        "!python align_images.py\n",
        "assert os.listdir('face'), 'did not find any faces'\n",
        "!python encode_images.py\n",
        "!python smile.py\n",
        "\n",
        "from moviepy.editor import *\n",
        "%cd /content\n",
        "output_folder = 'output'\n",
        "file = sorted([os.path.join(output_folder, file) for file in os.listdir(output_folder) if os.path.splitext(file)[1]=='.mp4'], key=os.path.getmtime)[-1]\n",
        "print('playing: ' + file)\n",
        "clip = VideoFileClip(file)\n",
        "clip.ipython_display(height=512, autoplay=1, loop=1, maxduration=333)"
      ],
      "execution_count": null,
      "outputs": []
    },
    {
      "cell_type": "code",
      "source": [],
      "metadata": {
        "id": "rUSxJcIOuirB"
      },
      "execution_count": null,
      "outputs": []
    },
    {
      "cell_type": "code",
      "metadata": {
        "id": "dNDAv9MN3DM2",
        "cellView": "form"
      },
      "source": [
        "#@title Download videos\n",
        "print() #fix issue https://github.com/googlecolab/colabtools/issues/468\n",
        "from google.colab import files\n",
        "import time\n",
        "%cd /content\n",
        "output_folder = 'output'\n",
        "output_files = sorted([os.path.join(output_folder, file) for file in os.listdir(output_folder) if os.path.splitext(file)[1]=='.mp4'], key=os.path.getmtime, reverse=True)\n",
        "for file in output_files:\n",
        "    print('downloading: '+file)\n",
        "    try:\n",
        "      files.download(file)\n",
        "    except:\n",
        "      time.sleep(5)\n",
        "      try:\n",
        "        files.download(file)\n",
        "      except:\n",
        "        print('please try downloading again...') #may be due to https://github.com/googlecolab/colabtools/issues/34"
      ],
      "execution_count": null,
      "outputs": []
    }
  ]
}