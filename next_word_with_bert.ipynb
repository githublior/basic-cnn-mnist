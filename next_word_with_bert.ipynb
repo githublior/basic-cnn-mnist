{
  "nbformat": 4,
  "nbformat_minor": 0,
  "metadata": {
    "colab": {
      "provenance": [],
      "include_colab_link": true
    },
    "kernelspec": {
      "display_name": "Python 3",
      "language": "python",
      "name": "python3"
    },
    "language_info": {
      "codemirror_mode": {
        "name": "ipython",
        "version": 3
      },
      "file_extension": ".py",
      "mimetype": "text/x-python",
      "name": "python",
      "nbconvert_exporter": "python",
      "pygments_lexer": "ipython3",
      "version": "3.7.6"
    }
  },
  "cells": [
    {
      "cell_type": "markdown",
      "metadata": {
        "id": "view-in-github",
        "colab_type": "text"
      },
      "source": [
        "<a href=\"https://colab.research.google.com/github/githublior/basic-cnn-mnist/blob/main/next_word_with_bert.ipynb\" target=\"_parent\"><img src=\"https://colab.research.google.com/assets/colab-badge.svg\" alt=\"Open In Colab\"/></a>"
      ]
    },
    {
      "cell_type": "code",
      "metadata": {
        "id": "uKq89rBY0QWw",
        "colab": {
          "base_uri": "https://localhost:8080/",
          "height": 51
        },
        "outputId": "8123ec51-5d59-43c4-8ff0-eb67fc7cf433"
      },
      "source": [
        "# Jovian Commit Essentials\n",
        "# Please retain and execute this cell without modifying the contents for `jovian.commit` to work\n",
        "!pip install jovian --upgrade -q\n",
        "import jovian\n",
        "jovian.utils.colab.set_colab_file_id('10rg_Du7xwl4pJ4kju6rlEbTSKyOpSidi')"
      ],
      "execution_count": null,
      "outputs": [
        {
          "output_type": "stream",
          "text": [
            "\u001b[?25l\r\u001b[K     |█████                           | 10kB 19.9MB/s eta 0:00:01\r\u001b[K     |██████████▏                     | 20kB 1.7MB/s eta 0:00:01\r\u001b[K     |███████████████▏                | 30kB 2.0MB/s eta 0:00:01\r\u001b[K     |████████████████████▎           | 40kB 2.3MB/s eta 0:00:01\r\u001b[K     |█████████████████████████▎      | 51kB 1.9MB/s eta 0:00:01\r\u001b[K     |██████████████████████████████▍ | 61kB 2.2MB/s eta 0:00:01\r\u001b[K     |████████████████████████████████| 71kB 2.0MB/s \n",
            "\u001b[?25h  Building wheel for uuid (setup.py) ... \u001b[?25l\u001b[?25hdone\n"
          ],
          "name": "stdout"
        }
      ]
    },
    {
      "cell_type": "code",
      "metadata": {
        "id": "DQ-bd9TtKaz3"
      },
      "source": [
        "!pip install jovian --upgrade --quiet"
      ],
      "execution_count": null,
      "outputs": []
    },
    {
      "cell_type": "code",
      "metadata": {
        "id": "USp3xZrlKa0T"
      },
      "source": [
        "def load_model(model_name):\n",
        "  try:\n",
        "    if model_name.lower() == \"bert\":\n",
        "      bert_tokenizer = BertTokenizer.from_pretrained('bert-base-uncased')\n",
        "      bert_model = BertForMaskedLM.from_pretrained('bert-base-uncased').eval()\n",
        "      return bert_tokenizer,bert_model\n",
        "  except Exception as e:\n",
        "    pass\n"
      ],
      "execution_count": null,
      "outputs": []
    },
    {
      "cell_type": "code",
      "metadata": {
        "id": "NJmrgAiiLBqZ"
      },
      "source": [
        "def encode(tokenizer, text_sentence, add_special_tokens=True):\n",
        "  text_sentence = text_sentence.replace('<mask>', tokenizer.mask_token)\n",
        "    # if <mask> is the last token, append a \".\" so that models dont predict punctuation.\n",
        "  if tokenizer.mask_token == text_sentence.split()[-1]:\n",
        "    text_sentence += ' .'\n",
        "\n",
        "    input_ids = torch.tensor([tokenizer.encode(text_sentence, add_special_tokens=add_special_tokens)])\n",
        "    mask_idx = torch.where(input_ids == tokenizer.mask_token_id)[1].tolist()[0]\n",
        "  return input_ids, mask_idx"
      ],
      "execution_count": null,
      "outputs": []
    },
    {
      "cell_type": "code",
      "metadata": {
        "id": "LZCkIyk2KrZh"
      },
      "source": [
        "def decode(tokenizer, pred_idx, top_clean):\n",
        "  ignore_tokens = string.punctuation + '[PAD]'\n",
        "  tokens = []\n",
        "  for w in pred_idx:\n",
        "    token = ''.join(tokenizer.decode(w).split())\n",
        "    if token not in ignore_tokens:\n",
        "      tokens.append(token.replace('##', ''))\n",
        "  return '\\n'.join(tokens[:top_clean])"
      ],
      "execution_count": null,
      "outputs": []
    },
    {
      "cell_type": "code",
      "metadata": {
        "id": "Emglmdu3KyoT"
      },
      "source": [
        "def get_all_predictions(text_sentence, top_clean=5):\n",
        "    # ========================= BERT =================================\n",
        "  input_ids, mask_idx = encode(bert_tokenizer, text_sentence)\n",
        "  with torch.no_grad():\n",
        "    predict = bert_model(input_ids)[0]\n",
        "  bert = decode(bert_tokenizer, predict[0, mask_idx, :].topk(top_k).indices.tolist(), top_clean)\n",
        "  return {'bert': bert}"
      ],
      "execution_count": null,
      "outputs": []
    },
    {
      "cell_type": "code",
      "metadata": {
        "id": "46xuDTNpK6mM"
      },
      "source": [
        "def get_prediction_eos(input_text):\n",
        "  try:\n",
        "    input_text += ' <mask>'\n",
        "    res = get_all_predictions(input_text, top_clean=int(top_k))\n",
        "    return res\n",
        "  except Exception as error:\n",
        "    pass"
      ],
      "execution_count": null,
      "outputs": []
    },
    {
      "cell_type": "code",
      "metadata": {
        "id": "6EhvApovLNtI"
      },
      "source": [
        "try:\n",
        "  st.title(\"Next Word Prediction with Pytroch\")\n",
        "  st.sidebar.text(\"Next Word Prediction\")\n",
        "  top_k = st.sidebar.slider(\"How many words do you need\", 1 , 25, 1) #some times it is possible to have less words\n",
        "  print(top_k)\n",
        "  model_name = st.sidebar.selectbox(label='Select Model to Apply',  options=['BERT', 'XLNET'], index=0,  key = \"model_name\")\n",
        "  bert_tokenizer, bert_model  = load_model(model_name)\n",
        "  input_text = st.text_area(\"Enter your text here\")\n",
        "  #click outside box of input text to get result\n",
        "  res = get_prediction_eos(input_text)\n",
        "  answer = []\n",
        "  print(res['bert'].split(\"\\n\"))\n",
        "  for i in res['bert'].split(\"\\n\"):\n",
        "  \tanswer.append(i)\n",
        "  answer_as_string = \"    \".join(answer)\n",
        "  st.text_area(\"Predicted List is Here\",answer_as_string,key=\"predicted_list\")\n",
        "\n",
        "except Exception as e:\n",
        "  pass"
      ],
      "execution_count": null,
      "outputs": []
    },
    {
      "cell_type": "code",
      "metadata": {
        "id": "RT2ml2M5Lahx"
      },
      "source": [
        "import jovian"
      ],
      "execution_count": null,
      "outputs": []
    },
    {
      "cell_type": "code",
      "metadata": {
        "id": "dXjBaX8RLsD0",
        "colab": {
          "base_uri": "https://localhost:8080/",
          "height": 51
        },
        "outputId": "281eaa71-7486-45c9-83da-8a42d8716cf7"
      },
      "source": [
        "jovian.commit()"
      ],
      "execution_count": null,
      "outputs": [
        {
          "output_type": "stream",
          "text": [
            "[jovian] Detected Colab notebook...\u001b[0m\n"
          ],
          "name": "stdout"
        },
        {
          "output_type": "stream",
          "text": [
            "\u001b[31m[jovian] Error: Please provide the project argument e.g. jovian.commit(project='my-project')\u001b[0m\n"
          ],
          "name": "stderr"
        }
      ]
    },
    {
      "cell_type": "code",
      "metadata": {
        "id": "nzIOlbEgLt0V"
      },
      "source": [],
      "execution_count": null,
      "outputs": []
    }
  ]
}